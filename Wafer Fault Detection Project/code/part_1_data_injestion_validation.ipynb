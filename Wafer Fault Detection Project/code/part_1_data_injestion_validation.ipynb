{
 "cells": [
  {
   "cell_type": "code",
   "execution_count": 31,
   "id": "b4bbf9c0",
   "metadata": {},
   "outputs": [],
   "source": [
    "# imnport\n",
    "import re\n",
    "import os\n",
    "import json"
   ]
  },
  {
   "cell_type": "code",
   "execution_count": 3,
   "id": "4cf7e862",
   "metadata": {},
   "outputs": [
    {
     "name": "stdout",
     "output_type": "stream",
     "text": [
      " Volume in drive D is New Volume\n",
      " Volume Serial Number is E245-2747\n",
      "\n",
      " Directory of D:\\learnbay\\courses\\ongoing_class\\march_batches\\21st October Wkdy\n",
      "\n",
      "03/10/2022  09:05 AM    <DIR>          .\n",
      "03/10/2022  09:05 AM    <DIR>          ..\n",
      "03/10/2022  09:02 AM    <DIR>          .ipynb_checkpoints\n",
      "03/10/2022  02:21 AM    <DIR>          dataset\n",
      "03/10/2022  09:05 AM               794 part_1_data_injestion_validation.ipynb\n",
      "03/09/2022  02:43 PM            17,188 schema_prediction.json\n",
      "03/09/2022  02:43 PM            17,213 schema_training.json\n",
      "03/10/2022  08:25 AM    <DIR>          Training_Batch_Files\n",
      "               3 File(s)         35,195 bytes\n",
      "               5 Dir(s)  146,949,574,656 bytes free\n"
     ]
    }
   ],
   "source": [
    "ls"
   ]
  },
  {
   "cell_type": "code",
   "execution_count": 26,
   "id": "644ceb29",
   "metadata": {},
   "outputs": [
    {
     "name": "stdout",
     "output_type": "stream",
     "text": [
      " Volume in drive D is New Volume\n",
      " Volume Serial Number is E245-2747\n",
      "\n",
      " Directory of D:\\learnbay\\courses\\ongoing_class\\march_batches\\21st October Wkdy\n",
      "\n",
      "03/10/2022  09:21 AM    <DIR>          .\n",
      "03/10/2022  09:21 AM    <DIR>          ..\n",
      "03/10/2022  09:02 AM    <DIR>          .ipynb_checkpoints\n",
      "03/10/2022  09:19 AM    <DIR>          Bad_data\n",
      "03/10/2022  02:21 AM    <DIR>          dataset\n",
      "03/10/2022  09:19 AM    <DIR>          good_data\n",
      "03/10/2022  09:21 AM             4,629 part_1_data_injestion_validation.ipynb\n",
      "03/09/2022  02:43 PM            17,188 schema_prediction.json\n",
      "03/09/2022  02:43 PM            17,213 schema_training.json\n",
      "03/10/2022  08:25 AM    <DIR>          Training_Batch_Files\n",
      "               3 File(s)         39,030 bytes\n",
      "               7 Dir(s)  146,949,570,560 bytes free\n"
     ]
    }
   ],
   "source": [
    "ls"
   ]
  },
  {
   "cell_type": "code",
   "execution_count": 27,
   "id": "40fbdb97",
   "metadata": {},
   "outputs": [],
   "source": [
    "# GLobal path varibales\n",
    "\n",
    "schema_file_path = \"D:\\\\learnbay\\\\courses\\\\ongoing_class\\\\march_batches\\\\21st October Wkdy\\\\schema_training.json\"\n",
    "training_folder_path = \"D:\\\\learnbay\\\\courses\\\\ongoing_class\\\\march_batches\\\\21st October Wkdy\\\\Training_Batch_Files\" \n",
    "good_data_folder_path = \"D:\\\\learnbay\\\\courses\\\\ongoing_class\\\\march_batches\\\\21st October Wkdy\\\\good_data\"\n",
    "bad_data_folder_path = \"D:\\\\learnbay\\\\courses\\\\ongoing_class\\\\march_batches\\\\21st October Wkdy\\\\Bad_data\""
   ]
  },
  {
   "cell_type": "code",
   "execution_count": 19,
   "id": "3dbf2940",
   "metadata": {},
   "outputs": [],
   "source": [
    "# extracting values from predicted schema\n",
    "\n",
    "def valuesfromschema():\n",
    "    with open(schema_file_path, 'r') as f:\n",
    "        dic = json.load(f)\n",
    "        pattern = dic['SampleFileName']\n",
    "        LengthOfDateStampInFile = dic['LengthOfDateStampInFile']\n",
    "        LengthOfTimeStampInFile = dic['LengthOfTimeStampInFile']\n",
    "        column_names = dic['ColName']\n",
    "        NumberofColumns = dic['NumberofColumns']\n",
    "        \n",
    "        return pattern, LengthOfDateStampInFile, LengthOfTimeStampInFile, column_names, NumberofColumns"
   ]
  },
  {
   "cell_type": "code",
   "execution_count": 20,
   "id": "549feb06",
   "metadata": {},
   "outputs": [],
   "source": [
    "pattern, LengthOfDateStampInFile, LengthOfTimeStampInFile, column_names, NumberofColumns = valuesfromschema()"
   ]
  },
  {
   "cell_type": "markdown",
   "id": "dfc31545",
   "metadata": {},
   "source": [
    "# regex"
   ]
  },
  {
   "cell_type": "code",
   "execution_count": 21,
   "id": "055a2469",
   "metadata": {},
   "outputs": [],
   "source": [
    "def regex():\n",
    "    regex = \"['wafer']+['\\_'']+[\\d_]+[\\d]+\\.csv\"\n",
    "    return regex"
   ]
  },
  {
   "cell_type": "code",
   "execution_count": 22,
   "id": "b63baf13",
   "metadata": {},
   "outputs": [],
   "source": [
    "regex = regex()"
   ]
  },
  {
   "cell_type": "code",
   "execution_count": null,
   "id": "486464a8",
   "metadata": {},
   "outputs": [],
   "source": [
    "# code for filtering the files"
   ]
  },
  {
   "cell_type": "code",
   "execution_count": 23,
   "id": "32153bb6",
   "metadata": {},
   "outputs": [],
   "source": [
    "mkdir Bad_data"
   ]
  },
  {
   "cell_type": "code",
   "execution_count": 24,
   "id": "804eb999",
   "metadata": {},
   "outputs": [],
   "source": [
    "mkdir good_data"
   ]
  },
  {
   "cell_type": "code",
   "execution_count": 30,
   "id": "5a651154",
   "metadata": {},
   "outputs": [
    {
     "data": {
      "text/plain": [
       "['Wafer12_20012.csv',\n",
       " 'Waferdefault_15010_130532.csv',\n",
       " 'Wafer_07012020_000000.csv',\n",
       " 'wafer_07012020_041011.csv',\n",
       " 'Wafer_07012020_223345.csv',\n",
       " 'Wafer_08012020_120000.csv',\n",
       " 'Wafer_10012020_131534.csv',\n",
       " 'Wafer_11012020_151432.csv',\n",
       " 'Wafer_12012020_111.csv',\n",
       " 'Wafer_12012020_111213.csv',\n",
       " 'wafer_13012020_090817.csv',\n",
       " 'Wafer_13012020_141000.csv',\n",
       " 'Wafer_14012020_113045.csv',\n",
       " 'Wafer_15010_130532.csv',\n",
       " 'Wafer_15012020_130532.csv',\n",
       " 'wafer_16012020_051629.csv',\n",
       " 'wafer_16012020_134553.csv',\n",
       " 'wafer_17012020_125434.csv',\n",
       " 'Wafer_18012020_121532.csv',\n",
       " 'Wafer_19012020_141432.csv',\n",
       " 'wafer_20012020_090819.csv',\n",
       " 'Wafer_20012020_135132.csv',\n",
       " 'wafer_20022020_090716.csv',\n",
       " 'wafer_21012020_080913.csv',\n",
       " 'Wafer_21012020_143634.csv',\n",
       " 'Wafer_22012020_173245.csv',\n",
       " 'wafer_22022020_041119.csv',\n",
       " 'wafer_23012020_011008.csv',\n",
       " 'wafer_23012020_041211.csv',\n",
       " 'Wafer_23012020_163456.csv',\n",
       " 'Wafer_24012020_150121.csv',\n",
       " 'Wafer_25012020_142112.csv',\n",
       " 'wafer_27012020_080911.csv',\n",
       " 'wafer_28012020_051011.csv',\n",
       " 'wafer_28012020_090817.csv',\n",
       " 'wafer_28042020_031911.csv',\n",
       " 'wafer_29012020_050617.csv',\n",
       " 'wafer_29012020_060756.csv',\n",
       " 'wafer_31012020_090811.csv',\n",
       " 'Wafer_fault_detection.csv',\n",
       " 'Wafer_text_130532.csv']"
      ]
     },
     "execution_count": 30,
     "metadata": {},
     "output_type": "execute_result"
    }
   ],
   "source": [
    "for filename in os.listdir(training_folder_path):\n",
    "    if re"
   ]
  },
  {
   "cell_type": "code",
   "execution_count": null,
   "id": "367d6a04",
   "metadata": {},
   "outputs": [],
   "source": [
    "file_names = os.listdir(training_folder_path)"
   ]
  }
 ],
 "metadata": {
  "kernelspec": {
   "display_name": "Python 3 (ipykernel)",
   "language": "python",
   "name": "python3"
  },
  "language_info": {
   "codemirror_mode": {
    "name": "ipython",
    "version": 3
   },
   "file_extension": ".py",
   "mimetype": "text/x-python",
   "name": "python",
   "nbconvert_exporter": "python",
   "pygments_lexer": "ipython3",
   "version": "3.9.12"
  }
 },
 "nbformat": 4,
 "nbformat_minor": 5
}
